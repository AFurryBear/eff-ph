{
 "cells": [
  {
   "cell_type": "code",
   "execution_count": null,
   "id": "initial_id",
   "metadata": {
    "collapsed": true
   },
   "outputs": [],
   "source": [
    "%load_ext autoreload\n",
    "%autoreload 2\n",
    "%env CUDA_VISIBLE_DEVICES=1\n",
    "\n",
    "import sys\n",
    "sys.path.append(\".\")\n",
    "from utils import get_path, measure_run_time\n",
    "import os"
   ]
  },
  {
   "cell_type": "code",
   "execution_count": 2,
   "outputs": [],
   "source": [
    "root_path = get_path(\"data\")\n",
    "fig_path = os.path.join(root_path, \"figures\")\n",
    "seeds = [0, 1, 2]"
   ],
   "metadata": {
    "collapsed": false,
    "ExecuteTime": {
     "end_time": "2023-10-16T13:57:07.732812630Z",
     "start_time": "2023-10-16T13:57:07.702164727Z"
    }
   },
   "id": "ad17a0efdb0b831c"
  },
  {
   "cell_type": "code",
   "execution_count": 3,
   "outputs": [
    {
     "name": "stdout",
     "output_type": "stream",
     "text": [
      "Run time on circle for euclidean distance, 1D features, and n=1000 points\n",
      "Time for distances: 0.013537327448527018 +/- 0.0021335411238359706 s\n",
      "Time for PD       : 12.312127113342285 +/- 0.42241844349505825 s\n"
     ]
    }
   ],
   "source": [
    "dist_times, ph_times = measure_run_time(dataset=\"toy_circle\",\n",
    "                                        distance=\"euclidean\",\n",
    "                                        dist_kwargs={},\n",
    "                                        embd_dim=50,\n",
    "                                        n=1000,\n",
    "                                        seeds=seeds,\n",
    "                                        feature_dim=1,\n",
    "                                        root_path=root_path,\n",
    "                                        sigma=0.0,\n",
    "                                        force_recompute=False)\n",
    "print(\"Run time on circle for euclidean distance, 1D features, and n=1000 points\")\n",
    "print(f\"Time for distances: {dist_times.mean()} +/- {dist_times.std()} s\")\n",
    "print(f\"Time for PD       : {ph_times.mean()} +/- {ph_times.std()} s\")"
   ],
   "metadata": {
    "collapsed": false,
    "ExecuteTime": {
     "end_time": "2023-10-16T13:57:07.784320600Z",
     "start_time": "2023-10-16T13:57:07.740776389Z"
    }
   },
   "id": "a0e1b4ecccb07c72"
  },
  {
   "cell_type": "code",
   "execution_count": 4,
   "outputs": [
    {
     "name": "stdout",
     "output_type": "stream",
     "text": [
      "Run time on circle for effective resistance, 1D features, and n=1000 points\n",
      "Time for distances: 0.1747457186381022 +/- 0.0447669200790851 s\n",
      "Time for PD       : 12.034617106119791 +/- 0.18706226085016123 s\n"
     ]
    }
   ],
   "source": [
    "dist_times, ph_times = measure_run_time(dataset=\"toy_circle\",\n",
    "                                        distance=\"eff_res\",\n",
    "                                        dist_kwargs={\"corrected\": True, \"weighted\": False, \"k\": 100, \"disconnect\": True},\n",
    "                                        embd_dim=50,\n",
    "                                        n=1000,\n",
    "                                        seeds=seeds,\n",
    "                                        feature_dim=1,\n",
    "                                        root_path=root_path,\n",
    "                                        sigma=0.0,\n",
    "                                        force_recompute=False)\n",
    "print(\"Run time on circle for effective resistance, 1D features, and n=1000 points\")\n",
    "print(f\"Time for distances: {dist_times.mean()} +/- {dist_times.std()} s\")\n",
    "print(f\"Time for PD       : {ph_times.mean()} +/- {ph_times.std()} s\")"
   ],
   "metadata": {
    "collapsed": false,
    "ExecuteTime": {
     "end_time": "2023-10-16T13:57:07.827348730Z",
     "start_time": "2023-10-16T13:57:07.786918188Z"
    }
   },
   "id": "a27c8f38efa47193"
  },
  {
   "cell_type": "code",
   "execution_count": 5,
   "outputs": [
    {
     "name": "stdout",
     "output_type": "stream",
     "text": [
      "Run time on circle for euclidean distance, 1D features, and n=2000 points\n",
      "Time for distances: 0.09588193893432617 +/- 0.04048461099907047 s\n",
      "Time for PD       : 117.04475275675456 +/- 8.884835046993603 s\n"
     ]
    }
   ],
   "source": [
    "dist_times, ph_times = measure_run_time(dataset=\"toy_circle\",\n",
    "                                        distance=\"euclidean\",\n",
    "                                        dist_kwargs={},\n",
    "                                        embd_dim=50,\n",
    "                                        n=2000,\n",
    "                                        seeds=seeds,\n",
    "                                        feature_dim=1,\n",
    "                                        sigma=0.0,\n",
    "                                        root_path=root_path,\n",
    "                                        force_recompute=False)\n",
    "print(\"Run time on circle for euclidean distance, 1D features, and n=2000 points\")\n",
    "print(f\"Time for distances: {dist_times.mean()} +/- {dist_times.std()} s\")\n",
    "print(f\"Time for PD       : {ph_times.mean()} +/- {ph_times.std()} s\")"
   ],
   "metadata": {
    "collapsed": false,
    "ExecuteTime": {
     "end_time": "2023-10-16T13:57:07.868505809Z",
     "start_time": "2023-10-16T13:57:07.830191320Z"
    }
   },
   "id": "9cd888e5ac9f2083"
  },
  {
   "cell_type": "code",
   "execution_count": 6,
   "outputs": [
    {
     "name": "stdout",
     "output_type": "stream",
     "text": [
      "Run time on sphere for euclidean distance, 1D features, and n=1000 points\n",
      "Time for distances: 0.012603123982747396 +/- 0.0005285197804084564 s\n",
      "Time for PD       : 1.3136875629425049 +/- 0.057395989630464064 s\n"
     ]
    }
   ],
   "source": [
    "dist_times, ph_times = measure_run_time(dataset=\"toy_sphere\",\n",
    "                                        distance=\"euclidean\",\n",
    "                                        dist_kwargs={},\n",
    "                                        embd_dim=50,\n",
    "                                        n=1000,\n",
    "                                        seeds=seeds,\n",
    "                                        feature_dim=1,\n",
    "                                        sigma=0.0,\n",
    "                                        root_path=root_path,\n",
    "                                        force_recompute=False)\n",
    "print(\"Run time on sphere for euclidean distance, 1D features, and n=1000 points\")\n",
    "print(f\"Time for distances: {dist_times.mean()} +/- {dist_times.std()} s\")\n",
    "print(f\"Time for PD       : {ph_times.mean()} +/- {ph_times.std()} s\")"
   ],
   "metadata": {
    "collapsed": false,
    "ExecuteTime": {
     "end_time": "2023-10-16T13:57:07.912798711Z",
     "start_time": "2023-10-16T13:57:07.870802170Z"
    }
   },
   "id": "15c942c951d51d45"
  },
  {
   "cell_type": "code",
   "execution_count": 7,
   "outputs": [
    {
     "name": "stdout",
     "output_type": "stream",
     "text": [
      "Run time on sphere for euclidean distance, 2D features, and n=1000 points\n",
      "Time for distances: 0.016923030217488606 +/- 0.0020571349875997407 s\n",
      "Time for PD       : 4687.39969309171 +/- 2501.6908961471668 s\n"
     ]
    }
   ],
   "source": [
    "dist_times, ph_times = measure_run_time(dataset=\"toy_sphere\",\n",
    "                                        distance=\"euclidean\",\n",
    "                                        dist_kwargs={},\n",
    "                                        embd_dim=50,\n",
    "                                        n=1000,\n",
    "                                        seeds=seeds,\n",
    "                                        feature_dim=2,\n",
    "                                        sigma=0.0,\n",
    "                                        root_path=root_path,\n",
    "                                        force_recompute=False)\n",
    "print(\"Run time on sphere for euclidean distance, 2D features, and n=1000 points\")\n",
    "print(f\"Time for distances: {dist_times.mean()} +/- {dist_times.std()} s\")\n",
    "print(f\"Time for PD       : {ph_times.mean()} +/- {ph_times.std()} s\")"
   ],
   "metadata": {
    "collapsed": false,
    "ExecuteTime": {
     "end_time": "2023-10-16T13:57:07.957190154Z",
     "start_time": "2023-10-16T13:57:07.915894690Z"
    }
   },
   "id": "53dc1e7dfcfa895b"
  },
  {
   "cell_type": "code",
   "execution_count": 7,
   "outputs": [],
   "source": [],
   "metadata": {
    "collapsed": false,
    "ExecuteTime": {
     "end_time": "2023-10-16T13:57:08.010712681Z",
     "start_time": "2023-10-16T13:57:08.010337052Z"
    }
   },
   "id": "4998dd6be66d9341"
  }
 ],
 "metadata": {
  "kernelspec": {
   "name": "conda-env-ph-py",
   "language": "python",
   "display_name": "Python [conda env:ph]"
  },
  "language_info": {
   "codemirror_mode": {
    "name": "ipython",
    "version": 2
   },
   "file_extension": ".py",
   "mimetype": "text/x-python",
   "name": "python",
   "nbconvert_exporter": "python",
   "pygments_lexer": "ipython2",
   "version": "2.7.6"
  }
 },
 "nbformat": 4,
 "nbformat_minor": 5
}
